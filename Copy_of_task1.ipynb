{
  "nbformat": 4,
  "nbformat_minor": 0,
  "metadata": {
    "colab": {
      "provenance": []
    },
    "kernelspec": {
      "name": "python3",
      "display_name": "Python 3"
    },
    "language_info": {
      "name": "python"
    }
  },
  "cells": [
    {
      "cell_type": "code",
      "execution_count": null,
      "metadata": {
        "id": "3NuPgywVVT-X"
      },
      "outputs": [],
      "source": []
    },
    {
      "cell_type": "markdown",
      "source": [
        "## **1- Write a Python program to find the area of a triangle**"
      ],
      "metadata": {
        "id": "yGQ0PxZIWP0v"
      }
    },
    {
      "cell_type": "code",
      "source": [
        "x = int(input(\"enter the  base of your triangle\"))\n",
        "y = int(input(\"enter the height of your triangle\"))\n",
        "\n",
        "z = 1,2*x*y\n",
        "print(\"triangle's area =\" ,z)"
      ],
      "metadata": {
        "id": "fVEa_BPoWYPd",
        "colab": {
          "base_uri": "https://localhost:8080/"
        },
        "outputId": "96328e70-1304-41de-9894-d29aa6f9311d"
      },
      "execution_count": null,
      "outputs": [
        {
          "output_type": "stream",
          "name": "stdout",
          "text": [
            "inter the  base of your triangle12\n",
            "inter the height of your triangle15\n",
            "triangle's area = (1, 360)\n"
          ]
        }
      ]
    },
    {
      "cell_type": "markdown",
      "source": [
        "# **2- Write a Python program to swap two variables.**\n"
      ],
      "metadata": {
        "id": "3DD6RrL1Wa65"
      }
    },
    {
      "cell_type": "code",
      "source": [
        "from typing_extensions import Unpack\n",
        "from pickle import TUPLE\n",
        "x =int (input(\"enter the first number\"))\n",
        "y =int (input(\"enter the second number\"))\n",
        "\n",
        "print(f\"before swappping: x={x}, y={y}\")\n",
        "x, y = y, x\n",
        "print(f\"after swapping: x={y}, y={x}\")\n"
      ],
      "metadata": {
        "id": "8A-qk-XGWmrK",
        "colab": {
          "base_uri": "https://localhost:8080/"
        },
        "outputId": "dc98f897-94b1-4972-b6f1-b18f429aa071"
      },
      "execution_count": null,
      "outputs": [
        {
          "output_type": "stream",
          "name": "stdout",
          "text": [
            "inter the first number6\n",
            "inter the second number9\n",
            "before swappping: x=6, y=9\n",
            "after swapping: x=6, y=9\n"
          ]
        }
      ]
    },
    {
      "cell_type": "markdown",
      "source": [
        "# **3-Write a Python program to enter a number from user and convert this number from kilometers to miles.**\n"
      ],
      "metadata": {
        "id": "NXzXheUIXDEf"
      }
    },
    {
      "cell_type": "code",
      "source": [
        "x=int(input(\"enter number of kilos\" ))\n",
        "y= x/1.609344\n",
        "print(\"number of miles=\", y)"
      ],
      "metadata": {
        "id": "-hO2ACQCX8xA",
        "colab": {
          "base_uri": "https://localhost:8080/"
        },
        "outputId": "247bf6ca-3b51-44f5-fcee-1ea985c503d9"
      },
      "execution_count": null,
      "outputs": [
        {
          "output_type": "stream",
          "name": "stdout",
          "text": [
            "enter number of kilos1000\n",
            "number of miles= 621.371192237334\n"
          ]
        }
      ]
    }
  ]
}