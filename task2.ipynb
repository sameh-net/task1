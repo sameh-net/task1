{
  "nbformat": 4,
  "nbformat_minor": 0,
  "metadata": {
    "colab": {
      "provenance": []
    },
    "kernelspec": {
      "name": "python3",
      "display_name": "Python 3"
    },
    "language_info": {
      "name": "python"
    }
  },
  "cells": [
    {
      "cell_type": "code",
      "execution_count": null,
      "metadata": {
        "id": "vs_SU3ng0tbN"
      },
      "outputs": [],
      "source": []
    },
    {
      "cell_type": "markdown",
      "source": [
        "\n",
        "# **WAP to enter a number from user and print its absolute value.**"
      ],
      "metadata": {
        "id": "MnWAiH2o0zSa"
      }
    },
    {
      "cell_type": "code",
      "source": [
        "x=int(input(\"enter the number\"))\n",
        "if x==0:\n",
        " print(\"absolute value =\",x)\n",
        "elif x<0:\n",
        "  print(\"absolute value =\",-x)\n",
        "else:\n",
        "  print(\"absolute value =\",x)"
      ],
      "metadata": {
        "id": "l3oLMLbk02Pj",
        "colab": {
          "base_uri": "https://localhost:8080/"
        },
        "outputId": "ff6ae58a-e39f-4d1f-b7c5-f960f08d0218"
      },
      "execution_count": 22,
      "outputs": [
        {
          "output_type": "stream",
          "name": "stdout",
          "text": [
            "enter the number0\n",
            "absloute value = 0\n"
          ]
        }
      ]
    },
    {
      "cell_type": "markdown",
      "source": [
        "# **WAP to enter a year from user and check if it is leap year or not.**"
      ],
      "metadata": {
        "id": "pOnjNwNx03Tr"
      }
    },
    {
      "cell_type": "code",
      "source": [
        "x=int(input(\"enter year\"))\n",
        "if x%4==0 and (x%100 !=0 or x%400==0):\n",
        " print(x,\"= is a leap year\")\n",
        "\n",
        "else:\n",
        " print(x,\"is not a leap year\")\n"
      ],
      "metadata": {
        "id": "4PEtUTm51H6x"
      },
      "execution_count": null,
      "outputs": []
    },
    {
      "cell_type": "markdown",
      "source": [
        "[link text](https://)# **WAP to enter the age of 3 person and print oldest and yougest among them.**"
      ],
      "metadata": {
        "id": "sn-NADUn1VGn"
      }
    },
    {
      "cell_type": "code",
      "source": [
        "x=int(input(\"1st person age\"))\n",
        "y=int(input(\"2ec person age\"))\n",
        "z=int(input(\"3rd person age\"))\n",
        "\n",
        "if x>y and x>z:\n",
        " oldest= x\n",
        "elif  y>x and y>z:\n",
        "  oldest=y\n",
        "else:\n",
        " oldest=z\n",
        "\n",
        " if x<y and x<z:\n",
        "  youngest = x\n",
        " elif y<x and y<z:\n",
        "  youngest = y\n",
        " else:\n",
        "  youngest = z\n",
        "\n",
        "print(\"The oldest person is\", oldest, \"years old.\")\n",
        "\n",
        "print(\"the youngest person is\",youngest,\"years old\")\n"
      ],
      "metadata": {
        "id": "uNGWS1AT1cYP",
        "colab": {
          "base_uri": "https://localhost:8080/"
        },
        "outputId": "d6a101c0-b4f3-496f-c78f-5f05eb49d2a3"
      },
      "execution_count": 19,
      "outputs": [
        {
          "output_type": "stream",
          "name": "stdout",
          "text": [
            "1st person age1\n",
            "2ec person age2\n",
            "3rd person age3\n",
            "The oldest person is 3 years old.\n",
            "the youngest person is 1 years old\n"
          ]
        }
      ]
    },
    {
      "cell_type": "markdown",
      "source": [
        "# **Write a program that asks the user to enter a series of numbers. The program should ask for numbers until the user enters a negative number. Once the user enters a negative number, the program should stop and print the sum of all the positive numbers entered**\n",
        "# **Example**\n",
        "# **Enter a number: 5**\n",
        "# **Enter a number: 8**\n",
        "# **Enter a number: 12**\n",
        "# **Enter a number: -2**\n",
        "# **The sum of the positive numbers is 25.**"
      ],
      "metadata": {
        "id": "XFRRNGVj1dEw"
      }
    },
    {
      "cell_type": "code",
      "source": [
        "sum =0\n",
        "\n",
        "num=int(input(\"enter number\"))\n",
        "\n",
        "while num >=0:\n",
        " sum +=num\n",
        " num=int(input(\"enter number\"))\n",
        "\n",
        "\n",
        "print(\"total of positive numbers =\",sum)"
      ],
      "metadata": {
        "id": "ijp9SzHu2A3p"
      },
      "execution_count": null,
      "outputs": []
    },
    {
      "cell_type": "markdown",
      "source": [
        "# **Write a program that asks the user to enter their name and age. The program should check if the user's age is greater than or equal to 18. If it is, the program should print a message saying they are eligible to vote. Otherwise, the program should print a message saying they are not eligible to vote due to being underage.**"
      ],
      "metadata": {
        "id": "oODCHUj62DxA"
      }
    },
    {
      "cell_type": "code",
      "source": [
        "x=(input(\"enter your name\"))\n",
        "y=int(input(\"enter your age\"))\n",
        "\n",
        "if y>=18:\n",
        " print(\"your are eligible to vote\")\n",
        "else:\n",
        " print(\"you are not eligible to vote due to being underage\" )"
      ],
      "metadata": {
        "id": "Svls1cLA2JVA"
      },
      "execution_count": null,
      "outputs": []
    },
    {
      "cell_type": "markdown",
      "source": [
        "# **Write a Python Program to Find the Factorial of a Number**"
      ],
      "metadata": {
        "id": "2y5o5SqL3nvL"
      }
    },
    {
      "cell_type": "code",
      "source": [
        "#couldnt unerstand how to do it?"
      ],
      "metadata": {
        "id": "Q_v3ns1D3tgy"
      },
      "execution_count": null,
      "outputs": []
    }
  ]
}